{
 "cells": [
  {
   "cell_type": "code",
   "execution_count": 1,
   "metadata": {},
   "outputs": [],
   "source": [
    "from floorplan import Box, Net, FloorPlan\n",
    "\n",
    "import cvxpy as cp\n",
    "from cvxpy import Variable, Constant, Minimize, Problem\n",
    "import numpy as np\n",
    "import placedb\n",
    "import pylab\n",
    "import math\n",
    "import joblib\n",
    "\n",
    "%load_ext autoreload\n",
    "%autoreload 2"
   ]
  },
  {
   "cell_type": "code",
   "execution_count": 2,
   "metadata": {},
   "outputs": [],
   "source": [
    "numCores = joblib.cpu_count()"
   ]
  },
  {
   "cell_type": "code",
   "execution_count": 3,
   "metadata": {},
   "outputs": [],
   "source": [
    "design = \"xerox\"\n",
    "input_dir = \"input_pin_aware/mcnc/\"\n",
    "blocksfile = \"{}{}.block\".format(input_dir,design)\n",
    "netsfile = \"{}{}.nets\".format(input_dir,design) \n",
    "#plfile = \"{}{}.pl\".format(input_dir,design)\n",
    "plfile = \"tmp/14.out.pl\""
   ]
  },
  {
   "cell_type": "code",
   "execution_count": 4,
   "metadata": {},
   "outputs": [],
   "source": [
    "pdb = placedb.PlaceDB()\n",
    "p = placedb.Params()"
   ]
  },
  {
   "cell_type": "code",
   "execution_count": 5,
   "metadata": {},
   "outputs": [
    {
     "name": "stderr",
     "output_type": "stream",
     "text": [
      "WARNING:root:target_density 0 is smaller than utilization 0.876357, ignored\n"
     ]
    }
   ],
   "source": [
    "pdb.read_block(p,blocksfile)\n",
    "pdb.read_nets_mcnc(p,netsfile)\n",
    "pdb.read_pl(p,plfile)\n",
    "pdb.initialize(p)"
   ]
  },
  {
   "cell_type": "code",
   "execution_count": 6,
   "metadata": {},
   "outputs": [
    {
     "ename": "SyntaxError",
     "evalue": "invalid syntax (<ipython-input-6-f8f38d880ecc>, line 28)",
     "output_type": "error",
     "traceback": [
      "\u001b[0;36m  File \u001b[0;32m\"<ipython-input-6-f8f38d880ecc>\"\u001b[0;36m, line \u001b[0;32m28\u001b[0m\n\u001b[0;31m    yh = max(pin_placeable_area[1], pdb.yh\u001b[0m\n\u001b[0m     ^\u001b[0m\n\u001b[0;31mSyntaxError\u001b[0m\u001b[0;31m:\u001b[0m invalid syntax\n"
     ]
    }
   ],
   "source": [
    "n = pdb.num_movable_nodes\n",
    "nn = pdb.num_terminals\n",
    "\n",
    "nets = []\n",
    "for i, net in enumerate(pdb.net2pin_map):\n",
    "    nodes = [pdb.pin2node_map[i] for i in net]\n",
    "    if len(nodes) <= 1: continue\n",
    "    nets.append(Net(nodes, i))\n",
    "    \n",
    "boxes = []\n",
    "for i in range(n):\n",
    "    boxes.append(Box(pdb.node_size_x[i], pdb.node_size_y[i], pdb.node_x[i], pdb.node_y[i], 1-int(pdb.node_orient[i]), idx=i, \n",
    "                     r=False, pl=True))\n",
    "\n",
    "placeable_area = (pdb.xh, pdb.yh)\n",
    "pin_placeable_area = [-1e8, -1e8]\n",
    "# pins\n",
    "for i in range(nn):\n",
    "    if pdb.node_x[i+n] >= pin_placeable_area[0]:\n",
    "        pin_placeable_area[0] =  pdb.node_x[i+n]\n",
    "    \n",
    "    if pdb.node_y[i+n] >= pin_placeable_area[1]:\n",
    "        pin_placeable_area[1] =  pdb.node_y[i+n]\n",
    "        \n",
    "    boxes.append(Box(0, 0, pdb.node_x[i+n], pdb.node_y[i+n], idx=i+n, pl=False, r=False, terminal=True))    \n",
    "\n",
    "xh = max(pin_placeable_area[0], pdb.xh)\n",
    "yh = max(pin_placeable_area[1], pdb.yh)\n",
    "    \n",
    "fp = FloorPlan(boxes, nets, xh, yh, max_seconds=3600, num_cores=numCores-1, name=design)"
   ]
  },
  {
   "cell_type": "code",
   "execution_count": null,
   "metadata": {},
   "outputs": [],
   "source": [
    "xh, yh"
   ]
  },
  {
   "cell_type": "code",
   "execution_count": null,
   "metadata": {},
   "outputs": [],
   "source": [
    "%%time\n",
    "p, c = fp.layout()\n",
    "fp.show()\n",
    "violations = fp.verify_constraints(c)\n",
    "assert np.all(violations <= 1e-5)"
   ]
  },
  {
   "cell_type": "code",
   "execution_count": null,
   "metadata": {},
   "outputs": [],
   "source": [
    "print(p)"
   ]
  },
  {
   "cell_type": "code",
   "execution_count": null,
   "metadata": {},
   "outputs": [],
   "source": []
  }
 ],
 "metadata": {
  "kernelspec": {
   "display_name": "Python 3",
   "language": "python",
   "name": "python3"
  },
  "language_info": {
   "codemirror_mode": {
    "name": "ipython",
    "version": 3
   },
   "file_extension": ".py",
   "mimetype": "text/x-python",
   "name": "python",
   "nbconvert_exporter": "python",
   "pygments_lexer": "ipython3",
   "version": "3.7.3"
  }
 },
 "nbformat": 4,
 "nbformat_minor": 4
}
