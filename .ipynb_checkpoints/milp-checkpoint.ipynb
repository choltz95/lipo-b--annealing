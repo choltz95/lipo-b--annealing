{
 "cells": [
  {
   "cell_type": "code",
   "execution_count": 17,
   "metadata": {},
   "outputs": [
    {
     "name": "stdout",
     "output_type": "stream",
     "text": [
      "The autoreload extension is already loaded. To reload it, use:\n",
      "  %reload_ext autoreload\n"
     ]
    }
   ],
   "source": [
    "from floorplan import Box, Net, FloorPlan\n",
    "\n",
    "import cvxpy as cp\n",
    "from cvxpy import Variable, Constant, Minimize, Problem\n",
    "import numpy as np\n",
    "import placedb\n",
    "import pylab\n",
    "import math\n",
    "import joblib\n",
    "\n",
    "%load_ext autoreload\n",
    "%autoreload 2"
   ]
  },
  {
   "cell_type": "code",
   "execution_count": 18,
   "metadata": {},
   "outputs": [],
   "source": [
    "numCores = joblib.cpu_count()"
   ]
  },
  {
   "cell_type": "code",
   "execution_count": 19,
   "metadata": {},
   "outputs": [],
   "source": [
    "design = \"apte\"\n",
    "input_dir = \"input_pin_aware/mcnc/\"\n",
    "blocksfile = \"{}{}.block\".format(input_dir,design)\n",
    "netsfile = \"{}{}.nets\".format(input_dir,design) \n",
    "#plfile = \"{}{}.pl\".format(input_dir,design)\n",
    "plfile = \"tmp/15.out.pl\""
   ]
  },
  {
   "cell_type": "code",
   "execution_count": 20,
   "metadata": {},
   "outputs": [],
   "source": [
    "pdb = placedb.PlaceDB()\n",
    "p = placedb.Params()"
   ]
  },
  {
   "cell_type": "code",
   "execution_count": 21,
   "metadata": {},
   "outputs": [
    {
     "name": "stderr",
     "output_type": "stream",
     "text": [
      "WARNING:root:target_density 0 is smaller than utilization 0.892722, ignored\n"
     ]
    }
   ],
   "source": [
    "pdb.read_block(p,blocksfile)\n",
    "pdb.read_nets_mcnc(p,netsfile)\n",
    "pdb.read_pl(p,plfile)\n",
    "pdb.initialize(p)"
   ]
  },
  {
   "cell_type": "code",
   "execution_count": 22,
   "metadata": {},
   "outputs": [
    {
     "data": {
      "image/png": "[encoded data removed]",
      "text/plain": [
       "<Figure size 432x288 with 1 Axes>"
      ]
     },
     "metadata": {},
     "output_type": "display_data"
    },
    {
     "ename": "AssertionError",
     "evalue": "",
     "output_type": "error",
     "traceback": [
      "\u001b[0;31m---------------------------------------------------------------------------\u001b[0m",
      "\u001b[0;31mAssertionError\u001b[0m                            Traceback (most recent call last)",
      "\u001b[0;32m<ipython-input-22-4fa496fafeed>\u001b[0m in \u001b[0;36m<module>\u001b[0;34m\u001b[0m\n\u001b[1;32m     21\u001b[0m \u001b[0mfp\u001b[0m\u001b[0;34m.\u001b[0m\u001b[0mshow\u001b[0m\u001b[0;34m(\u001b[0m\u001b[0;34m)\u001b[0m\u001b[0;34m\u001b[0m\u001b[0;34m\u001b[0m\u001b[0m\n\u001b[1;32m     22\u001b[0m \u001b[0mviolations\u001b[0m \u001b[0;34m=\u001b[0m \u001b[0mfp\u001b[0m\u001b[0;34m.\u001b[0m\u001b[0mverify_constraints\u001b[0m\u001b[0;34m(\u001b[0m\u001b[0mc\u001b[0m\u001b[0;34m)\u001b[0m\u001b[0;34m\u001b[0m\u001b[0;34m\u001b[0m\u001b[0m\n\u001b[0;32m---> 23\u001b[0;31m \u001b[0;32massert\u001b[0m \u001b[0mnp\u001b[0m\u001b[0;34m.\u001b[0m\u001b[0mall\u001b[0m\u001b[0;34m(\u001b[0m\u001b[0mviolations\u001b[0m \u001b[0;34m<=\u001b[0m \u001b[0;36m1e-5\u001b[0m\u001b[0;34m)\u001b[0m\u001b[0;34m\u001b[0m\u001b[0;34m\u001b[0m\u001b[0m\n\u001b[0m",
      "\u001b[0;31mAssertionError\u001b[0m: "
     ]
    }
   ],
   "source": [
    "#%%time\n",
    "n = pdb.num_movable_nodes\n",
    "nn = pdb.num_terminals\n",
    "\n",
    "nets = []\n",
    "for i, net in enumerate(pdb.net2pin_map):\n",
    "    nodes = [pdb.pin2node_map[i] for i in net]\n",
    "    if len(nodes) <= 1: continue\n",
    "    nets.append(Net(nodes, i))\n",
    "    \n",
    "boxes = []\n",
    "for i in range(n):\n",
    "    boxes.append(Box(pdb.node_size_x[i], pdb.node_size_y[i], pdb.node_x[i], pdb.node_y[i], idx=i, r=True))\n",
    "    \n",
    "for i in range(nn):\n",
    "    boxes.append(Box(0, 0, pdb.node_x[i], pdb.node_y[i], idx=i, r=True))    \n",
    "\n",
    "\n",
    "fp = FloorPlan(boxes, nets, pdb.xh, pdb.yh, max_seconds=100, num_cores=numCores-1)\n",
    "p, c = fp.layout()\n",
    "fp.show()\n",
    "violations = fp.verify_constraints(c)\n",
    "assert np.all(violations <= 1e-5)"
   ]
  },
  {
   "cell_type": "code",
   "execution_count": null,
   "metadata": {},
   "outputs": [],
   "source": [
    "print(p/2)"
   ]
  },
  {
   "cell_type": "code",
   "execution_count": null,
   "metadata": {},
   "outputs": [],
   "source": []
  }
 ],
 "metadata": {
  "kernelspec": {
   "display_name": "Python 3",
   "language": "python",
   "name": "python3"
  },
  "language_info": {
   "codemirror_mode": {
    "name": "ipython",
    "version": 3
   },
   "file_extension": ".py",
   "mimetype": "text/x-python",
   "name": "python",
   "nbconvert_exporter": "python",
   "pygments_lexer": "ipython3",
   "version": "3.8.5"
  }
 },
 "nbformat": 4,
 "nbformat_minor": 4
}
