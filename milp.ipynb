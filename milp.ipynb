{
 "cells": [
  {
   "cell_type": "code",
   "execution_count": 1,
   "metadata": {},
   "outputs": [],
   "source": [
    "from floorplan import Box, Net, FloorPlan\n",
    "\n",
    "import cvxpy as cp\n",
    "from cvxpy import Variable, Constant, Minimize, Problem\n",
    "import numpy as np\n",
    "import placedb\n",
    "import pylab\n",
    "import math\n",
    "import joblib\n",
    "\n",
    "%load_ext autoreload\n",
    "%autoreload 2"
   ]
  },
  {
   "cell_type": "code",
   "execution_count": 2,
   "metadata": {},
   "outputs": [],
   "source": [
    "numCores = joblib.cpu_count()"
   ]
  },
  {
   "cell_type": "code",
   "execution_count": 3,
   "metadata": {},
   "outputs": [],
   "source": [
    "design = \"apte\"\n",
    "input_dir = \"input/mcnc/\"\n",
    "blocksfile = \"{}{}.block\".format(input_dir,design)\n",
    "netsfile = \"{}{}.nets\".format(input_dir,design) \n",
    "plfile = \"{}{}.pl\".format(input_dir,design)"
   ]
  },
  {
   "cell_type": "code",
   "execution_count": 4,
   "metadata": {},
   "outputs": [],
   "source": [
    "pdb = placedb.PlaceDB()\n",
    "p = placedb.Params()"
   ]
  },
  {
   "cell_type": "code",
   "execution_count": 5,
   "metadata": {},
   "outputs": [
    {
     "name": "stderr",
     "output_type": "stream",
     "text": [
      "WARNING:root:target_density 0 is smaller than utilization 0.892722, ignored\n"
     ]
    }
   ],
   "source": [
    "pdb.read_block(p,blocksfile)\n",
    "pdb.read_nets_mcnc(p,netsfile)\n",
    "pdb.read_pl(p,plfile)\n",
    "pdb.initialize(p)"
   ]
  },
  {
   "cell_type": "code",
   "execution_count": 6,
   "metadata": {},
   "outputs": [
    {
     "name": "stderr",
     "output_type": "stream",
     "text": [
      "/usr/local/lib/python3.8/site-packages/cvxpy/problems/problem.py:1060: UserWarning: Solution may be inaccurate. Try another solver, adjusting the solver settings, or solve with verbose=True for more information.\n",
      "  warnings.warn(\n"
     ]
    },
    {
     "data": {
      "image/png": "[encoded data removed]",
      "text/plain": [
       "<Figure size 432x288 with 1 Axes>"
      ]
     },
     "metadata": {},
     "output_type": "display_data"
    }
   ],
   "source": [
    "#%%time\n",
    "n = pdb.num_movable_nodes\n",
    "\n",
    "nets = []\n",
    "for i, net in enumerate(pdb.net2pin_map):\n",
    "    nodes = [pdb.pin2node_map[i] for i in net if pdb.pin2node_map[i] < n]\n",
    "    if len(nodes) <= 1: continue\n",
    "    nets.append(Net(nodes, i))\n",
    "    \n",
    "boxes = []\n",
    "for i in range(n):\n",
    "    boxes.append(Box(pdb.node_size_x[i], pdb.node_size_y[i], idx=i, r=True))\n",
    "\n",
    "fp = FloorPlan(boxes, nets, pdb.xh, pdb.yh)\n",
    "p, c = fp.layout()\n",
    "fp.show()\n",
    "violations = fp.verify_constraints(c)\n",
    "assert np.all(violations <= 1e-5)"
   ]
  },
  {
   "cell_type": "code",
   "execution_count": 7,
   "metadata": {},
   "outputs": [
    {
     "name": "stdout",
     "output_type": "stream",
     "text": [
      "149165.5\n"
     ]
    }
   ],
   "source": [
    "print(p/2)"
   ]
  }
 ],
 "metadata": {
  "kernelspec": {
   "display_name": "Python 3",
   "language": "python",
   "name": "python3"
  },
  "language_info": {
   "codemirror_mode": {
    "name": "ipython",
    "version": 3
   },
   "file_extension": ".py",
   "mimetype": "text/x-python",
   "name": "python",
   "nbconvert_exporter": "python",
   "pygments_lexer": "ipython3",
   "version": "3.8.5"
  }
 },
 "nbformat": 4,
 "nbformat_minor": 4
}
